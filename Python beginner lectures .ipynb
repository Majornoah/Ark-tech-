{
 "cells": [
  {
   "cell_type": "markdown",
   "id": "8b224d51",
   "metadata": {},
   "source": [
    "# Python Data analysis beginner lessons"
   ]
  },
  {
   "cell_type": "code",
   "execution_count": 10,
   "id": "ce95961f",
   "metadata": {},
   "outputs": [
    {
     "data": {
      "text/plain": [
       "8"
      ]
     },
     "execution_count": 10,
     "metadata": {},
     "output_type": "execute_result"
    }
   ],
   "source": [
    "1+1+6\n"
   ]
  },
  {
   "cell_type": "markdown",
   "id": "de7923ec",
   "metadata": {},
   "source": [
    "Dictionary"
   ]
  },
  {
   "cell_type": "code",
   "execution_count": 150,
   "id": "03c1b694",
   "metadata": {},
   "outputs": [],
   "source": [
    "dict = {'Name:':'Festus', 'Age:':'26', 'City:': 'London', 'Sex:':'Male'}"
   ]
  },
  {
   "cell_type": "code",
   "execution_count": 151,
   "id": "531769ba",
   "metadata": {},
   "outputs": [
    {
     "data": {
      "text/plain": [
       "'Festus'"
      ]
     },
     "execution_count": 151,
     "metadata": {},
     "output_type": "execute_result"
    }
   ],
   "source": [
    "dict['Name:']\n",
    "\n"
   ]
  },
  {
   "cell_type": "code",
   "execution_count": 77,
   "id": "532ea641",
   "metadata": {
    "scrolled": true
   },
   "outputs": [
    {
     "name": "stdout",
     "output_type": "stream",
     "text": [
      "Name: Festus\n",
      "Age: 26\n",
      "City: London\n",
      "Sex: Male\n"
     ]
    }
   ],
   "source": [
    "for key, value in dict.items():\n",
    "    print(key,value)\n",
    "    "
   ]
  },
  {
   "cell_type": "markdown",
   "id": "79bfbd90",
   "metadata": {},
   "source": [
    "# List comprehention "
   ]
  },
  {
   "cell_type": "markdown",
   "id": "f402450f",
   "metadata": {},
   "source": [
    "List is a data structure that contains a number of objects in a precise order to form a sequence to which elements can be added and removed. In python we count from zero. "
   ]
  },
  {
   "cell_type": "code",
   "execution_count": 2,
   "id": "03c47506",
   "metadata": {},
   "outputs": [
    {
     "data": {
      "text/plain": [
       "[1, 2, 3, 4, 5]"
      ]
     },
     "execution_count": 2,
     "metadata": {},
     "output_type": "execute_result"
    }
   ],
   "source": [
    "List = [1,2,3,4,5]\n",
    "List"
   ]
  },
  {
   "cell_type": "code",
   "execution_count": 4,
   "id": "8373d532",
   "metadata": {},
   "outputs": [
    {
     "data": {
      "text/plain": [
       "3"
      ]
     },
     "execution_count": 4,
     "metadata": {},
     "output_type": "execute_result"
    }
   ],
   "source": [
    "List[2]\n"
   ]
  },
  {
   "cell_type": "code",
   "execution_count": 7,
   "id": "d7ee47b9",
   "metadata": {},
   "outputs": [
    {
     "data": {
      "text/plain": [
       "[3, 4]"
      ]
     },
     "execution_count": 7,
     "metadata": {},
     "output_type": "execute_result"
    }
   ],
   "source": [
    "List[2:4]"
   ]
  },
  {
   "cell_type": "code",
   "execution_count": 11,
   "id": "05c39eab",
   "metadata": {},
   "outputs": [
    {
     "data": {
      "text/plain": [
       "[2, 3]"
      ]
     },
     "execution_count": 11,
     "metadata": {},
     "output_type": "execute_result"
    }
   ],
   "source": [
    "List[1:3]"
   ]
  },
  {
   "cell_type": "code",
   "execution_count": 18,
   "id": "6c789c15",
   "metadata": {},
   "outputs": [
    {
     "data": {
      "text/plain": [
       "['Apple', 'Orange', 'Banana', 'Grape', 'Pawpaw', 'Cherry']"
      ]
     },
     "execution_count": 18,
     "metadata": {},
     "output_type": "execute_result"
    }
   ],
   "source": [
    "Fruits = ['Apple', 'Orange', 'Banana', 'Grape', 'Pawpaw', 'Cherry']\n",
    "Fruits"
   ]
  },
  {
   "cell_type": "code",
   "execution_count": 21,
   "id": "a076bd13",
   "metadata": {},
   "outputs": [
    {
     "data": {
      "text/plain": [
       "'Cherry'"
      ]
     },
     "execution_count": 21,
     "metadata": {},
     "output_type": "execute_result"
    }
   ],
   "source": [
    "Fruits[-1]"
   ]
  },
  {
   "cell_type": "code",
   "execution_count": 24,
   "id": "c7f8372b",
   "metadata": {},
   "outputs": [
    {
     "name": "stdout",
     "output_type": "stream",
     "text": [
      "['Orange', 'Banana', 'Grape', 'Pawpaw']\n"
     ]
    }
   ],
   "source": [
    "V = Fruits[1:5]\n",
    "print(V)  # Output: ['Orange', 'Banana']\n",
    "\n",
    "\n",
    "\n"
   ]
  },
  {
   "cell_type": "code",
   "execution_count": 6,
   "id": "ae0f31b8",
   "metadata": {},
   "outputs": [
    {
     "name": "stdout",
     "output_type": "stream",
     "text": [
      "Numbers: [1, 2, 3, 4, 5]\n",
      "Fruits: ['apple', 'banana', 'orange', 'grape', 'kiwi']\n",
      "Mixed: [1, 'apple', True, 3.14]\n"
     ]
    }
   ],
   "source": [
    "\n",
    "#Create a list of numbers\n",
    "numbers = [1, 2, 3, 4, 5]\n",
    "\n",
    "# Create a list of strings\n",
    "fruits = ['apple', 'banana', 'orange', 'grape', 'kiwi']\n",
    "\n",
    "# Create a list of mixed data types\n",
    "mixed = [1, 'apple', True, 3.14]\n",
    "\n",
    "# Print the lists\n",
    "print(\"Numbers:\", numbers)\n",
    "print(\"Fruits:\", fruits)\n",
    "print(\"Mixed:\", mixed)"
   ]
  },
  {
   "cell_type": "code",
   "execution_count": 149,
   "id": "c3c56c01",
   "metadata": {},
   "outputs": [
    {
     "data": {
      "text/plain": [
       "5"
      ]
     },
     "execution_count": 149,
     "metadata": {},
     "output_type": "execute_result"
    }
   ],
   "source": [
    "numbers = [1, 2, 3, 4, 5]\n",
    "numbers[4]"
   ]
  },
  {
   "cell_type": "markdown",
   "id": "00b2f06c",
   "metadata": {},
   "source": [
    "Adding different lists together into one document"
   ]
  },
  {
   "cell_type": "code",
   "execution_count": 31,
   "id": "1cc6f6ba",
   "metadata": {},
   "outputs": [
    {
     "name": "stdout",
     "output_type": "stream",
     "text": [
      "['Apple', 'Banana', 'Orange', 'Grape', 'Kiwi', 'Pawpaw', 'Cherry', 'Berrie', 'Cashew']\n"
     ]
    }
   ],
   "source": [
    "Fruits1 = ['Apple', 'Banana', 'Orange', 'Grape', 'Kiwi']\n",
    "Fruits2 = ['Pawpaw', 'Cherry']\n",
    "Fruits3 = ['Berrie', 'Cashew']\n",
    "\n",
    "Add = Fruits1 + Fruits2 + Fruits3\n",
    "\n",
    "print (Add)\n"
   ]
  },
  {
   "cell_type": "code",
   "execution_count": 33,
   "id": "bef2378a",
   "metadata": {},
   "outputs": [
    {
     "name": "stdout",
     "output_type": "stream",
     "text": [
      "['a', 'b', 'c', 'd', 'e', 'f', 'g', 'h', 'i', 'j', 'k', 'l']\n"
     ]
    }
   ],
   "source": [
    "# Define four lists of alphabets\n",
    "list1 = ['a', 'b', 'c']\n",
    "list2 = ['d', 'e', 'f']\n",
    "list3 = ['g', 'h', 'i']\n",
    "list4 = ['j', 'k', 'l']\n",
    "\n",
    "# Extend list1 with elements from list2, list3, and list4\n",
    "list1.extend(list2)\n",
    "list1.extend(list3)\n",
    "list1.extend(list4)\n",
    "\n",
    "# Print the result\n",
    "print(list1)\n",
    "\n"
   ]
  },
  {
   "cell_type": "markdown",
   "id": "08fc328f",
   "metadata": {},
   "source": [
    "Aranging two lists elements in alphabetical order"
   ]
  },
  {
   "cell_type": "code",
   "execution_count": 40,
   "id": "74ef4ab9",
   "metadata": {},
   "outputs": [
    {
     "name": "stdout",
     "output_type": "stream",
     "text": [
      "['Alice', 'Bob', 'Cain', 'David', 'Emma', 'Eva', 'Fred', 'Gabriel', 'Hannah', 'Israel', 'John']\n"
     ]
    }
   ],
   "source": [
    "# Define two lists of names\n",
    "list1 = ['John', 'Alice', 'Bob','Cain','Hannah', 'Israel']\n",
    "list2 = ['Emma', 'Gabriel', 'David', 'Eva', 'Fred']\n",
    "\n",
    "# Concatenate the lists\n",
    "combined_list = list1 + list2\n",
    "\n",
    "# Sort the combined list alphabetically\n",
    "combined_list.sort()\n",
    "\n",
    "# Print the result\n",
    "print(combined_list)\n"
   ]
  },
  {
   "cell_type": "code",
   "execution_count": 43,
   "id": "0e1002ea",
   "metadata": {},
   "outputs": [
    {
     "name": "stdout",
     "output_type": "stream",
     "text": [
      "['John', 'Alice', 'Bob', 'Cain', 'Hannah', 'Israel', 'Noah']\n"
     ]
    }
   ],
   "source": [
    "list1 = ['John', 'Alice', 'Bob','Cain','Hannah', 'Israel']\n",
    "list1.append('Noah')\n",
    "\n",
    "\n",
    "print(list1)"
   ]
  },
  {
   "cell_type": "code",
   "execution_count": 46,
   "id": "f86dad55",
   "metadata": {},
   "outputs": [
    {
     "name": "stdout",
     "output_type": "stream",
     "text": [
      "['Noah', 'John', 'Alice', 'Bob', 'Cain', 'Hannah', 'Israel', 'Israel']\n"
     ]
    }
   ],
   "source": [
    "list1 = ['John', 'Alice', 'Bob','Cain','Hannah', 'Israel', 'Israel']\n",
    "list1.insert(0,'Noah')\n",
    "\n",
    "print(list1)\n",
    "\n",
    "\n"
   ]
  },
  {
   "cell_type": "code",
   "execution_count": 51,
   "id": "6989acb2",
   "metadata": {},
   "outputs": [
    {
     "name": "stdout",
     "output_type": "stream",
     "text": [
      "7\n"
     ]
    }
   ],
   "source": [
    "list1 = ['John', 'Alice', 'Bob','Cain','Hannah', 'Israel', 'Emma']\n",
    "A = len(set(list1))\n",
    "\n",
    "print(A)\n",
    "\n"
   ]
  },
  {
   "cell_type": "code",
   "execution_count": 97,
   "id": "740ae83f",
   "metadata": {},
   "outputs": [
    {
     "name": "stdout",
     "output_type": "stream",
     "text": [
      "3\n",
      "2\n"
     ]
    }
   ],
   "source": [
    "list1 = ['John', 'Alice','Alice', 'Bob','Cain','Hannah', 'Israel', 'Israel', 'Israel']\n",
    "\n",
    "list1.count('Israel')\n",
    "Israel=list1.count('Israel')\n",
    "\n",
    "\n",
    "list1.count('Alice')\n",
    "Alice=list1.count('Alice')\n",
    "\n",
    "\n",
    "print(Israel)\n",
    "print(Alice)\n",
    "\n"
   ]
  },
  {
   "cell_type": "markdown",
   "id": "1eddfb48",
   "metadata": {},
   "source": [
    "### List funtions"
   ]
  },
  {
   "cell_type": "markdown",
   "id": "15913602",
   "metadata": {},
   "source": [
    "list.pop(index): Removes and returns the element at the specified index. If no index is specified, removes and returns the last element."
   ]
  },
  {
   "cell_type": "code",
   "execution_count": 14,
   "id": "a0eebf19",
   "metadata": {},
   "outputs": [
    {
     "name": "stdout",
     "output_type": "stream",
     "text": [
      "[1, 2, 2]\n"
     ]
    }
   ],
   "source": [
    "my_list = [1, 2, 3, 2]\n",
    "my_list.pop(2)\n",
    "print(my_list)  # Output: [1, 3, 2]\n"
   ]
  },
  {
   "cell_type": "markdown",
   "id": "58f0e81e",
   "metadata": {},
   "source": [
    "list.remove(element): Removes the first occurrence of the specified element from the list."
   ]
  },
  {
   "cell_type": "code",
   "execution_count": 15,
   "id": "5dcbe9fd",
   "metadata": {},
   "outputs": [
    {
     "name": "stdout",
     "output_type": "stream",
     "text": [
      "[2, 3, 2]\n"
     ]
    }
   ],
   "source": [
    "my_list = [1, 2, 3, 2]\n",
    "my_list.remove(1)\n",
    "print(my_list)  # Output: [1, 3, 2]\n"
   ]
  },
  {
   "cell_type": "markdown",
   "id": "1a831a91",
   "metadata": {},
   "source": [
    "Python loop function\n",
    "There are mainly two type of loop, the (for) loop and the (while) loop\n"
   ]
  },
  {
   "cell_type": "code",
   "execution_count": 1,
   "id": "3c7455ec",
   "metadata": {},
   "outputs": [
    {
     "name": "stdout",
     "output_type": "stream",
     "text": [
      "1\n",
      "2\n",
      "3\n",
      "4\n",
      "5\n"
     ]
    }
   ],
   "source": [
    "# Printing numbers from 1 to 5 using a while loop\n",
    "num = 1\n",
    "while num <= 5:\n",
    "    print(num)\n",
    "    num += 1\n",
    "    \n",
    "\n"
   ]
  },
  {
   "cell_type": "markdown",
   "id": "47234d7b",
   "metadata": {},
   "source": [
    "You can also control the flow of the loop using keywords like break to exit the loop prematurely or continue to skip the current iteration and move to the next one.\n",
    "\n",
    "Here's an example using break:"
   ]
  },
  {
   "cell_type": "code",
   "execution_count": 20,
   "id": "795e12cc",
   "metadata": {},
   "outputs": [
    {
     "name": "stdout",
     "output_type": "stream",
     "text": [
      "1\n",
      "2\n"
     ]
    }
   ],
   "source": [
    "# Example of using break in a loop\n",
    "numbers = [1, 2, 3, 4, 5]\n",
    "for num in numbers:\n",
    "    if num == 3:\n",
    "        break\n",
    "    print(num)\n",
    "    \n",
    "    #This loop will print numbers 1 and 2, then break out of the loop when it encounters the number 3\n"
   ]
  },
  {
   "cell_type": "code",
   "execution_count": 1,
   "id": "852c95a4",
   "metadata": {},
   "outputs": [
    {
     "name": "stdout",
     "output_type": "stream",
     "text": [
      "1\n",
      "2\n",
      "4\n",
      "5\n"
     ]
    }
   ],
   "source": [
    "# Example of using continue in a loop\n",
    "numbers = [1, 2, 3, 4, 5]\n",
    "for num in numbers:\n",
    "    if num == 3:\n",
    "        continue\n",
    "    print(num)\n",
    "    \n",
    "    #This loop will print all numbers from 1 to 5 except for 3, as it skips the iteration when the number is 3.\n"
   ]
  },
  {
   "cell_type": "code",
   "execution_count": 2,
   "id": "5a9ed685",
   "metadata": {},
   "outputs": [
    {
     "name": "stdout",
     "output_type": "stream",
     "text": [
      "0\n",
      "1\n",
      "2\n",
      "3\n",
      "4\n"
     ]
    }
   ],
   "source": [
    "# Example of a while loop\n",
    "count = 0\n",
    "while count < 5:\n",
    "    print(count)\n",
    "    count += 1\n",
    "\n",
    "    \n",
    "    \n"
   ]
  },
  {
   "cell_type": "code",
   "execution_count": 6,
   "id": "0b82e030",
   "metadata": {},
   "outputs": [
    {
     "name": "stdout",
     "output_type": "stream",
     "text": [
      "A\n",
      "B\n",
      "C\n",
      "D\n",
      "E\n",
      "F\n",
      "G\n",
      "H\n",
      "I\n",
      "J\n",
      "K\n",
      "L\n",
      "M\n",
      "N\n",
      "O\n",
      "P\n",
      "Q\n",
      "R\n",
      "S\n",
      "T\n",
      "U\n",
      "V\n",
      "W\n",
      "X\n",
      "Y\n",
      "Z\n"
     ]
    }
   ],
   "source": [
    "# Loop from 'A' to 'Z'\n",
    "for char in range(ord('A'), ord('Z')+1):\n",
    "    print(chr(char))\n"
   ]
  },
  {
   "cell_type": "markdown",
   "id": "7a5dcd14",
   "metadata": {},
   "source": [
    "\n",
    "```\n",
    "\n",
    "Explanation:\n",
    "\n",
    "- `ord('A')` returns the ASCII value of 'A', which is 65.\n",
    "- `ord('Z')` returns the ASCII value of 'Z', which is 90.\n",
    "- `range(ord('A'), ord('Z')+1)` generates a range from 65 to 90 (inclusive).\n",
    "- `chr(char)` converts each ASCII value back to its corresponding character.\n",
    "\n",
    "So, this loop prints out each letter from 'A' to 'Z' on a separate line in your Jupyter Notebook."
   ]
  },
  {
   "cell_type": "code",
   "execution_count": 2,
   "id": "8edff9de",
   "metadata": {},
   "outputs": [
    {
     "name": "stdout",
     "output_type": "stream",
     "text": [
      "A B C D E F G H I J K L M N O P Q R S T U V W X Y Z a b c d e f g h i j k l m n o p q r s t u v w x y z "
     ]
    }
   ],
   "source": [
    "# Loop from 'A' to 'Z'\n",
    "for char in range(ord('A'), ord('Z')+1):\n",
    "    print(chr(char), end=' ')\n",
    "\n",
    "# Loop from 'a' to 'z'\n",
    "for char in range(ord('a'), ord('z')+1):\n",
    "    print(chr(char), end=' ')\n"
   ]
  },
  {
   "cell_type": "markdown",
   "id": "ba88a11d",
   "metadata": {},
   "source": [
    "# Assigment questions and answers"
   ]
  },
  {
   "cell_type": "markdown",
   "id": "8ca1d440",
   "metadata": {},
   "source": [
    "1.) The names of students in a class are stored in a list as shown below\n",
    "    names = [\"Carol\", \"Albert\", \"Ben\", \"Donna\"]\n",
    "    Add the following new students to the above list and sort them in alphabetical order.\n",
    "    Phillip, Evans, Samuel, Tina, Eva. And find the total number of students in the class\n",
    "\n"
   ]
  },
  {
   "cell_type": "code",
   "execution_count": 17,
   "id": "34d74aeb",
   "metadata": {},
   "outputs": [
    {
     "name": "stdout",
     "output_type": "stream",
     "text": [
      "Updated list of students: ['Albert', 'Ben', 'Carol', 'Donna', 'Eva', 'Evans', 'Phillip', 'Samuel', 'Tina']\n",
      "Total number of students in the class: 9\n"
     ]
    }
   ],
   "source": [
    "names = [\"Carol\", \"Albert\", \"Ben\", \"Donna\"]\n",
    "\n",
    "new_students = [\"Phillip\", \"Evans\", \"Samuel\", \"Tina\", \"Eva\"]\n",
    "\n",
    "# Add new students to the existing list\n",
    "names.extend(new_students)\n",
    "\n",
    "# Sort the list alphabetically\n",
    "names.sort()\n",
    "\n",
    "# Total number of students in the class\n",
    "total_students = len(names)\n",
    "\n",
    "print(\"Updated list of students:\", names)\n",
    "print(\"Total number of students in the class:\", total_students)\n"
   ]
  },
  {
   "cell_type": "markdown",
   "id": "aa75fbc8",
   "metadata": {},
   "source": [
    "2.) Find the length, maximum, and minimum of the list below and also store them in a dictionary\n",
    "\n",
    "    a = [1, 5, 8, 12, 9, 4, 5]\n",
    "    \n",
    "    b = [2, 6, 9, 10, 1, 3, 4, 5, 20]\n",
    "    \n",
    "    c = [100, 200, 30, 1, 30, 33, 5, 7]\n"
   ]
  },
  {
   "cell_type": "code",
   "execution_count": 18,
   "id": "63586441",
   "metadata": {},
   "outputs": [
    {
     "name": "stdout",
     "output_type": "stream",
     "text": [
      "Results: {'a': {'length': 7, 'maximum': 12, 'minimum': 1}, 'b': {'length': 9, 'maximum': 20, 'minimum': 1}, 'c': {'length': 8, 'maximum': 200, 'minimum': 1}}\n"
     ]
    }
   ],
   "source": [
    "a = [1, 5, 8, 12, 9, 4, 5]\n",
    "\n",
    "b = [2, 6, 9, 10, 1, 3, 4, 5, 20]\n",
    "\n",
    "c = [100, 200, 30, 1, 30, 33, 5, 7]\n",
    "\n",
    "# Create a dictionary to store the results\n",
    "results = {}\n",
    "\n",
    "# Calculate length, maximum, and minimum for each list\n",
    "for lst, name in zip([a, b, c], ['a', 'b', 'c']):\n",
    "    results[name] = {\n",
    "        'length': len(lst),\n",
    "        'maximum': max(lst),\n",
    "        'minimum': min(lst)\n",
    "    }\n",
    "\n",
    "# Print the results dictionary\n",
    "print(\"Results:\", results)\n"
   ]
  },
  {
   "cell_type": "markdown",
   "id": "d00b341c",
   "metadata": {},
   "source": [
    "Another way to get your answer "
   ]
  },
  {
   "cell_type": "code",
   "execution_count": 19,
   "id": "1a0759d5",
   "metadata": {},
   "outputs": [
    {
     "name": "stdout",
     "output_type": "stream",
     "text": [
      "Results: {'a': {'length': 7, 'maximum': 12, 'minimum': 1}, 'b': {'length': 9, 'maximum': 20, 'minimum': 1}, 'c': {'length': 8, 'maximum': 200, 'minimum': 1}}\n"
     ]
    }
   ],
   "source": [
    "a = [1, 5, 8, 12, 9, 4, 5]\n",
    "\n",
    "b = [2, 6, 9, 10, 1, 3, 4, 5, 20]\n",
    "\n",
    "c = [100, 200, 30, 1, 30, 33, 5, 7]\n",
    "\n",
    "# Create a dictionary to store the results\n",
    "results = {}\n",
    "\n",
    "# Calculate length, maximum, and minimum for each list individually\n",
    "results['a'] = {'length': len(a), 'maximum': max(a), 'minimum': min(a)}\n",
    "\n",
    "results['b'] = {'length': len(b), 'maximum': max(b), 'minimum': min(b)}\n",
    "\n",
    "results['c'] = {'length': len(c), 'maximum': max(c), 'minimum': min(c)}\n",
    "\n",
    "# Print the results dictionary\n",
    "print(\"Results:\", results)\n"
   ]
  },
  {
   "cell_type": "markdown",
   "id": "43fb33da",
   "metadata": {},
   "source": [
    "3.) my_verse = \"if you can keep your head when all about you are losing theirs and blaming it on you if you can trust yourself when all men doubt you but make allowance for their doubting too if you can wait and not be tired by waiting or being lied about don’t deal in lies or being hated don’t give way to hating and yet don’t look too good nor talk too wise\"\n",
    "\n",
    "a.) Split the variable my_verse into a list of words.\n",
    "b.) Convert the list into a data structure that would keep only the unique elements from the list.\n",
    "c.) Print the length of the container.\n",
    "\n"
   ]
  },
  {
   "cell_type": "code",
   "execution_count": 65,
   "id": "66a9b990",
   "metadata": {},
   "outputs": [
    {
     "name": "stdout",
     "output_type": "stream",
     "text": [
      "List of words: ['if', 'you', 'can', 'keep', 'your', 'head', 'when', 'all', 'about', 'you', 'are', 'losing', 'theirs', 'and', 'blaming', 'it', 'on', 'you', 'if', 'you', 'can', 'trust', 'yourself', 'when', 'all', 'men', 'doubt', 'you', 'but', 'make', 'allowance', 'for', 'their', 'doubting', 'too', 'if', 'you', 'can', 'wait', 'and', 'not', 'be', 'tired', 'by', 'waiting', 'or', 'being', 'lied', 'about', 'don’t', 'deal', 'in', 'lies', 'or', 'being', 'hated', 'don’t', 'give', 'way', 'to', 'hating', 'and', 'yet', 'don’t', 'look', 'too', 'good', 'nor', 'talk', 'too', 'wise']\n"
     ]
    }
   ],
   "source": [
    "my_verse = \"if you can keep your head when all about you are losing theirs and blaming it on you if you can trust yourself when all men doubt you but make allowance for their doubting too if you can wait and not be tired by waiting or being lied about don’t deal in lies or being hated don’t give way to hating and yet don’t look too good nor talk too wise\"\n",
    "\n",
    "# Split the verse into a list of words\n",
    "words_list = my_verse.split()\n",
    "print(\"List of words:\", words_list)\n"
   ]
  },
  {
   "cell_type": "code",
   "execution_count": 64,
   "id": "2500cf9b",
   "metadata": {},
   "outputs": [
    {
     "name": "stdout",
     "output_type": "stream",
     "text": [
      "Set of unique words: {'all', 'hated', 'but', 'not', 'trust', 'head', 'waiting', 'and', 'by', 'if', 'good', 'allowance', 'doubting', 'way', 'men', 'don’t', 'talk', 'being', 'hating', 'wait', 'about', 'their', 'lied', 'it', 'your', 'look', 'you', 'when', 'blaming', 'or', 'keep', 'tired', 'give', 'yet', 'nor', 'make', 'on', 'wise', 'are', 'can', 'deal', 'to', 'in', 'yourself', 'be', 'too', 'lies', 'for', 'doubt', 'losing', 'theirs'}\n"
     ]
    }
   ],
   "source": [
    "#. Convert the list into a set to keep only unique elements\n",
    "unique_words_set = set(words_list)\n",
    "print(\"Set of unique words:\", unique_words_set)\n"
   ]
  },
  {
   "cell_type": "code",
   "execution_count": 23,
   "id": "17391a44",
   "metadata": {},
   "outputs": [
    {
     "name": "stdout",
     "output_type": "stream",
     "text": [
      "Length of the container: 51\n"
     ]
    }
   ],
   "source": [
    "# Print the length of the container\n",
    "print(\"Length of the container:\", len(unique_words_set))\n"
   ]
  },
  {
   "cell_type": "code",
   "execution_count": 24,
   "id": "706c15e7",
   "metadata": {},
   "outputs": [
    {
     "name": "stdout",
     "output_type": "stream",
     "text": [
      "List of words: ['if', 'you', 'can', 'keep', 'your', 'head', 'when', 'all', 'about', 'you', 'are', 'losing', 'theirs', 'and', 'blaming', 'it', 'on', 'you', 'if', 'you', 'can', 'trust', 'yourself', 'when', 'all', 'men', 'doubt', 'you', 'but', 'make', 'allowance', 'for', 'their', 'doubting', 'too', 'if', 'you', 'can', 'wait', 'and', 'not', 'be', 'tired', 'by', 'waiting', 'or', 'being', 'lied', 'about', 'don’t', 'deal', 'in', 'lies', 'or', 'being', 'hated', 'don’t', 'give', 'way', 'to', 'hating', 'and', 'yet', 'don’t', 'look', 'too', 'good', 'nor', 'talk', 'too', 'wise']\n",
      "Set of unique words: {'wise', 'head', 'trust', 'too', 'yourself', 'doubt', 'hating', 'about', 'nor', 'in', 'theirs', 'wait', 'on', 'for', 'or', 'doubting', 'don’t', 'yet', 'allowance', 'blaming', 'all', 'being', 'lies', 'hated', 'are', 'give', 'it', 'talk', 'by', 'keep', 'and', 'you', 'your', 'tired', 'to', 'but', 'look', 'way', 'when', 'men', 'make', 'waiting', 'deal', 'lied', 'losing', 'if', 'be', 'not', 'can', 'good', 'their'}\n",
      "Length of the container: 51\n"
     ]
    }
   ],
   "source": [
    "my_verse = \"if you can keep your head when all about you are losing theirs and blaming it on you if you can trust yourself when all men doubt you but make allowance for their doubting too if you can wait and not be tired by waiting or being lied about don’t deal in lies or being hated don’t give way to hating and yet don’t look too good nor talk too wise\"\n",
    "\n",
    "# Split the verse into a list of words\n",
    "words_list = my_verse.split()\n",
    "print(\"List of words:\", words_list)\n",
    "\n",
    "# Convert the list into a set to keep only unique elements\n",
    "unique_words_set = set(words_list)\n",
    "print(\"Set of unique words:\", unique_words_set)\n",
    "\n",
    "# Print the length of the container\n",
    "print(\"Length of the container:\", len(unique_words_set))\n"
   ]
  },
  {
   "cell_type": "markdown",
   "id": "ee5e26aa",
   "metadata": {},
   "source": [
    "4.)  Convert the following string object into list\n",
    "    str_numbers = \"2343432390833473\"\n"
   ]
  },
  {
   "cell_type": "code",
   "execution_count": 32,
   "id": "9b3cc640",
   "metadata": {},
   "outputs": [
    {
     "name": "stdout",
     "output_type": "stream",
     "text": [
      "List of individual integers: [2, 3, 4, 3, 4, 3, 2, 3, 9, 0, 8, 3, 3, 4, 7, 3]\n"
     ]
    }
   ],
   "source": [
    "str_numbers = \"2343432390833473\"\n",
    "\n",
    "# Convert each character to an integer and store in a list\n",
    "list_numbers = [int(char) for char in str_numbers]\n",
    "\n",
    "print(\"List of individual integers:\", list_numbers)\n"
   ]
  },
  {
   "cell_type": "markdown",
   "id": "eb16b1c0",
   "metadata": {},
   "source": [
    "5.) Return the first and last element of the list below\n",
    "    z = [2, 3, 10, 1, 0, 23, 15, 5, 3, 12]\n",
    "    \n"
   ]
  },
  {
   "cell_type": "code",
   "execution_count": 110,
   "id": "aebe44cb",
   "metadata": {},
   "outputs": [
    {
     "name": "stdout",
     "output_type": "stream",
     "text": [
      "first_element 2\n",
      "last_element 12\n"
     ]
    }
   ],
   "source": [
    "z = [2, 3, 10, 1, 0, 23, 15, 5, 3, 12]\n",
    "#\n",
    "first_element = z[0]\n",
    "#\n",
    "last_element = z[-1]\n",
    "\n",
    "print('first_element', first_element)\n",
    "print('last_element', last_element)\n",
    "    \n"
   ]
  },
  {
   "cell_type": "markdown",
   "id": "b9f711d4",
   "metadata": {},
   "source": [
    "6.)  What parameters should be sent to the range constructor, to produce a range with values 50, 60, 70, 80?\n"
   ]
  },
  {
   "cell_type": "code",
   "execution_count": 121,
   "id": "7bbd2a69",
   "metadata": {},
   "outputs": [
    {
     "data": {
      "text/plain": [
       "range(50, 81, 10)"
      ]
     },
     "execution_count": 121,
     "metadata": {},
     "output_type": "execute_result"
    }
   ],
   "source": [
    "# Calculate the start value\n",
    "start = 50\n",
    "\n",
    "# Calculate the stop value (exclusive)\n",
    "stop = 81\n",
    "\n",
    "# Calculate the step value\n",
    "step = 10\n",
    "\n",
    "# Create the range\n",
    "my_range = range(start, stop, step)\n",
    "my_range\n"
   ]
  },
  {
   "cell_type": "markdown",
   "id": "b3f9f6bd",
   "metadata": {},
   "source": [
    "7.)  What parameters should be sent to the range constructor, to produce a range with values 8, 6, 4, 2, 0, -2, -4, -6, -8?\n",
    "\n"
   ]
  },
  {
   "cell_type": "code",
   "execution_count": 109,
   "id": "0974513c",
   "metadata": {},
   "outputs": [
    {
     "name": "stdout",
     "output_type": "stream",
     "text": [
      "8\n",
      "6\n",
      "4\n",
      "2\n",
      "0\n",
      "-2\n",
      "-4\n",
      "-6\n",
      "-8\n"
     ]
    }
   ],
   "source": [
    "for i in range(8, -10, -2):\n",
    "    print(i)\n"
   ]
  },
  {
   "cell_type": "markdown",
   "id": "db13705b",
   "metadata": {},
   "source": [
    "8.)Write a for loop to print all numbers from 1 to 10.b. Write a while loop to print all even numbers from 2 to 10."
   ]
  },
  {
   "cell_type": "code",
   "execution_count": 65,
   "id": "f512fde7",
   "metadata": {},
   "outputs": [
    {
     "name": "stdout",
     "output_type": "stream",
     "text": [
      "Numbers from 1 to 10:\n",
      "1\n",
      "2\n",
      "3\n",
      "4\n",
      "5\n",
      "6\n",
      "7\n",
      "8\n",
      "9\n",
      "10\n",
      "Even numbers from 2 to 10:\n",
      "2\n",
      "4\n",
      "6\n",
      "8\n",
      "10\n",
      "Numbers from 10 to 1 in reverse order:\n",
      "10\n",
      "9\n",
      "8\n",
      "7\n",
      "6\n",
      "5\n",
      "4\n",
      "3\n",
      "2\n",
      "1\n"
     ]
    }
   ],
   "source": [
    " # a. Print all numbers from 1 to 10 using the range() function\n",
    "print(\"Numbers from 1 to 10:\")\n",
    "for i in range(1, 11):\n",
    "    print(i)\n",
    "\n",
    "# b. Print all even numbers from 2 to 10 using the range() function\n",
    "print(\"Even numbers from 2 to 10:\")\n",
    "for i in range(2, 11, 2):\n",
    "    print(i)\n",
    "\n",
    "# c. Print all numbers from 10 to 1 in reverse order using the range() function\n",
    "print(\"Numbers from 10 to 1 in reverse order:\")\n",
    "for i in range(10, 0, -1):\n",
    "    print(i)\n"
   ]
  },
  {
   "cell_type": "markdown",
   "id": "2899c043",
   "metadata": {},
   "source": [
    "9.) 9.Print all numbers from 1 to 10 using the range() function.\n",
    "b. Print all even numbers from 2 to 10 using the range() function\n",
    ".c. Print all numbers from 10 to 1 in reverse order using the range() function."
   ]
  },
  {
   "cell_type": "code",
   "execution_count": 5,
   "id": "6c87ee04",
   "metadata": {},
   "outputs": [
    {
     "name": "stdout",
     "output_type": "stream",
     "text": [
      "Numbers from 1 to 10:\n",
      "1\n",
      "2\n",
      "3\n",
      "4\n",
      "5\n",
      "6\n",
      "7\n",
      "8\n",
      "9\n",
      "10\n",
      "Even numbers from 2 to 10:\n",
      "2\n",
      "4\n",
      "6\n",
      "8\n",
      "10\n"
     ]
    }
   ],
   "source": [
    "# For loop to print numbers from 1 to 10\n",
    "print(\"Numbers from 1 to 10:\")\n",
    "for i in range(1, 11):\n",
    "    print(i)\n",
    "\n",
    "# While loop to print even numbers from 2 to 10\n",
    "print(\"Even numbers from 2 to 10:\")\n",
    "num = 2\n",
    "while num <= 10:\n",
    "    print(num)\n",
    "    num += 2\n",
    "    \n",
    "    \n"
   ]
  },
  {
   "cell_type": "markdown",
   "id": "951a81a7",
   "metadata": {},
   "source": [
    "# DATA ANALYSIS"
   ]
  },
  {
   "cell_type": "markdown",
   "id": "a71706b5",
   "metadata": {},
   "source": [
    "Data analysis is the process of examining, cleaning, transforming, and interpreting data to uncover meaningful insights, patterns, and trends. It involves applying various techniques, statistical methods, and computational tools to extract valuable information from raw data.\n",
    "\n",
    "The Data Analysis Process:\n",
    "\n",
    "Data analysis can be described as a process consisting of several steps in which the raw data are transformed \n",
    "and processed in order to produce data visualizations and can make predictions thanks to a mathematical \n",
    "model based on the collected data. Then, data analysis is nothing more than a sequence of steps, each of \n",
    "which plays a key role in the subsequent ones. So, data analysis is almost schematized as a process chain \n",
    "consisting of the following sequence of stages:\n",
    "\n",
    "•\t Problem definition\n",
    "\n",
    "•\t Data extraction\n",
    "\n",
    "•\t Data cleaning\n",
    "\n",
    "•\t Data transformation\n",
    "\n",
    "•\t Data exploration\n",
    "\n",
    "•\t Predictive modeling\n",
    "\n",
    "•\t Model validation/test\n",
    "\n",
    "•\t Visualization and interpretation of results\n",
    "\n",
    "•\t Deployment of the solution"
   ]
  },
  {
   "cell_type": "markdown",
   "id": "74f77a36",
   "metadata": {},
   "source": [
    "#### Python libraries for data analytics (Pandas & Numpy)"
   ]
  },
  {
   "cell_type": "markdown",
   "id": "1ed81a7a",
   "metadata": {},
   "source": [
    "Pandas is a Python library renowned for its user-friendly data structures and powerful data analysis tools. It introduces Series and DataFrame for one- and two-dimensional data manipulation, respectively. With Pandas, users can perform a wide range of tasks including data selection, filtering, grouping, joining, and aggregation. Built on NumPy, Pandas ensures high performance, making it suitable for handling large datasets efficiently. Its versatility allows it to handle various data types and domains, while its extensive community support provides ample resources for learning and problem-solving. In essence, Pandas stands as a cornerstone for data analysis in Python due to its simplicity, versatility, and performance.\n",
    "\n",
    "NumPy is a Python library essential for numerical computing, offering support for multi-dimensional arrays and matrices. It provides a vast array of mathematical functions, efficient indexing, and slicing operations. NumPy's broadcasting feature simplifies operations on arrays with different shapes. It includes functions for linear algebra, random number generation, and seamlessly integrates with other scientific computing libraries. Implemented in C, NumPy ensures high performance and efficiency, making it a cornerstone of Python's scientific computing ecosystem."
   ]
  },
  {
   "cell_type": "markdown",
   "id": "e9612a82",
   "metadata": {},
   "source": [
    "**Important basics for data analysis**\n",
    "\n",
    "1. **Types of Data**:\n",
    "   - **Structured Data**: Data that is organized in a pre-defined format, typically with a clear schema, such as relational databases where data is stored in tables with rows and columns.\n",
    "   - **Unstructured Data**: Data that lacks a predefined structure, making it challenging to organize and analyze without additional processing. Examples include text documents, images, videos, and audio recordings.\n",
    "   - **Semi-Structured Data**: Data that does not conform to a rigid structure like structured data but contains some organizational properties. Examples include JSON, XML, and CSV files where data may have a defined schema but with flexibility in data types and values.\n",
    "\n",
    "2. **Data Sources and Collection**:\n",
    "   - **Data Sources**: Data can originate from various sources such as databases, files (CSV, Excel, JSON), web APIs, sensors, social media, and surveys.\n",
    "   - **Data Collection**: Methods for collecting data include manual entry, automated data collection systems, web scraping, IoT devices, and data streams from sensors or instruments.\n",
    "\n",
    "3. **Data Cleaning and Preprocessing**:\n",
    "   - **Data Cleaning**: The process of detecting and correcting (or removing) errors and inconsistencies in the data. This includes handling missing values, correcting typos, dealing with outliers, and resolving inconsistencies.\n",
    "   - **Data Preprocessing**: Preparation of data for analysis, including tasks such as data normalization, standardization, feature scaling, encoding categorical variables, and feature engineering to create new variables or features from existing ones.\n",
    "\n",
    "4. **Data Storage**:\n",
    "   - **Database Systems**: Structured data is commonly stored in relational database management systems (RDBMS) like MySQL, PostgreSQL, or SQL Server, using tables to organize data.\n",
    "   - **Data Warehouses**: Specialized databases designed for storing and analyzing large volumes of structured and semi-structured data, often used for business intelligence and analytics.\n",
    "   - **Data Lakes**: Storage systems that can store vast amounts of raw data in its native format, providing flexibility for analysis and exploration, commonly used for unstructured and semi-structured data.\n",
    "\n",
    "5. **Basic Data Terminology**:\n",
    "   - **Rows**: Also known as records or observations, represent individual entries in a dataset.\n",
    "   - **Columns**: Also known as fields or variables, represent the attributes or features of the data.\n",
    "   - **Variables**: Characteristics or properties of interest that describe the data being collected or analyzed.\n",
    "   - **Observations**: Instances or samples of data collected or recorded, each consisting of a set of variables.\n",
    "\n"
   ]
  },
  {
   "cell_type": "code",
   "execution_count": 100,
   "id": "7a15c2cc",
   "metadata": {},
   "outputs": [
    {
     "name": "stdout",
     "output_type": "stream",
     "text": [
      "      NAME  AGE  GENDER\n",
      "0    Alice   25  Female\n",
      "1      Bob   30    Male\n",
      "2  Charlie   35    Male\n",
      "3    David   40    Male\n"
     ]
    }
   ],
   "source": [
    "#to beging our work in the pandas dataframe we must first import pandas into our jupytal notebook\n",
    "\n",
    "import pandas as pd\n",
    "\n",
    "# Creating a DataFrame from a dictionary\n",
    "data = {'NAME': ['Alice', 'Bob','Charlie', 'David'],\n",
    "        'AGE': [25, 30, 35, 40],\n",
    "        'GENDER': ['Female', 'Male', 'Male', 'Male']}\n",
    "df = pd.DataFrame(data)\n",
    "\n",
    "print(df)\n"
   ]
  },
  {
   "cell_type": "code",
   "execution_count": 101,
   "id": "9ae1dc8d",
   "metadata": {},
   "outputs": [
    {
     "name": "stdout",
     "output_type": "stream",
     "text": [
      "    NAME  AGE  GENDER\n",
      "0  Alice   25  Female\n",
      "1    Bob   30    Male\n"
     ]
    }
   ],
   "source": [
    "print(df.head(2)) #first row"
   ]
  },
  {
   "cell_type": "code",
   "execution_count": 102,
   "id": "0d726aa7",
   "metadata": {},
   "outputs": [
    {
     "name": "stdout",
     "output_type": "stream",
     "text": [
      "      NAME  AGE GENDER\n",
      "2  Charlie   35   Male\n",
      "3    David   40   Male\n"
     ]
    }
   ],
   "source": [
    "print(df.tail(2)) #last row"
   ]
  },
  {
   "cell_type": "code",
   "execution_count": 103,
   "id": "7a30a2f8",
   "metadata": {},
   "outputs": [
    {
     "name": "stdout",
     "output_type": "stream",
     "text": [
      "0    Female\n",
      "1      Male\n",
      "2      Male\n",
      "3      Male\n",
      "Name: GENDER, dtype: object\n"
     ]
    }
   ],
   "source": [
    "\n",
    "print(df['GENDER']) #bringing out specific column \n"
   ]
  },
  {
   "cell_type": "code",
   "execution_count": 104,
   "id": "bd46437c",
   "metadata": {},
   "outputs": [
    {
     "name": "stdout",
     "output_type": "stream",
     "text": [
      "NAME       Bob\n",
      "AGE         30\n",
      "GENDER    Male\n",
      "Name: 1, dtype: object\n"
     ]
    }
   ],
   "source": [
    "print(df.loc[1])"
   ]
  },
  {
   "cell_type": "code",
   "execution_count": 105,
   "id": "4c81840d",
   "metadata": {},
   "outputs": [
    {
     "name": "stdout",
     "output_type": "stream",
     "text": [
      "DataFrame after adding 'CITY' column:\n",
      "      NAME  AGE  GENDER         CITY\n",
      "0    Alice   25  Female     New York\n",
      "1      Bob   30    Male  Los Angeles\n",
      "2  Charlie   35    Male      Chicago\n",
      "3    David   40    Male      Houston\n"
     ]
    }
   ],
   "source": [
    "df['CITY'] = ['New York', 'Los Angeles', 'Chicago', 'Houston']\n",
    "print(\"DataFrame after adding 'CITY' column:\")\n",
    "print(df)"
   ]
  },
  {
   "cell_type": "code",
   "execution_count": 106,
   "id": "7e3e2576",
   "metadata": {},
   "outputs": [
    {
     "name": "stdout",
     "output_type": "stream",
     "text": [
      "\n",
      "DataFrame after deleting 'GENDER' column:\n",
      "      NAME  AGE         CITY\n",
      "0    Alice   25     New York\n",
      "1      Bob   30  Los Angeles\n",
      "2  Charlie   35      Chicago\n",
      "3    David   40      Houston\n"
     ]
    }
   ],
   "source": [
    "df.drop('GENDER', axis=1, inplace=True)\n",
    "print(\"\\nDataFrame after deleting 'GENDER' column:\")\n",
    "print(df)"
   ]
  },
  {
   "cell_type": "code",
   "execution_count": 12,
   "id": "5143557c",
   "metadata": {},
   "outputs": [
    {
     "data": {
      "text/plain": [
       "0    25\n",
       "1    30\n",
       "2    35\n",
       "3    40\n",
       "Name: AGE, dtype: int64"
      ]
     },
     "execution_count": 12,
     "metadata": {},
     "output_type": "execute_result"
    }
   ],
   "source": [
    "df['AGE']"
   ]
  },
  {
   "cell_type": "code",
   "execution_count": 13,
   "id": "63b92aa0",
   "metadata": {},
   "outputs": [
    {
     "data": {
      "text/html": [
       "<div>\n",
       "<style scoped>\n",
       "    .dataframe tbody tr th:only-of-type {\n",
       "        vertical-align: middle;\n",
       "    }\n",
       "\n",
       "    .dataframe tbody tr th {\n",
       "        vertical-align: top;\n",
       "    }\n",
       "\n",
       "    .dataframe thead th {\n",
       "        text-align: right;\n",
       "    }\n",
       "</style>\n",
       "<table border=\"1\" class=\"dataframe\">\n",
       "  <thead>\n",
       "    <tr style=\"text-align: right;\">\n",
       "      <th></th>\n",
       "      <th>NAME</th>\n",
       "      <th>AGE</th>\n",
       "      <th>CITY</th>\n",
       "    </tr>\n",
       "  </thead>\n",
       "  <tbody>\n",
       "    <tr>\n",
       "      <th>0</th>\n",
       "      <td>Alice</td>\n",
       "      <td>25</td>\n",
       "      <td>New York</td>\n",
       "    </tr>\n",
       "    <tr>\n",
       "      <th>1</th>\n",
       "      <td>Bob</td>\n",
       "      <td>30</td>\n",
       "      <td>Los Angeles</td>\n",
       "    </tr>\n",
       "    <tr>\n",
       "      <th>2</th>\n",
       "      <td>Charlie</td>\n",
       "      <td>35</td>\n",
       "      <td>Chicago</td>\n",
       "    </tr>\n",
       "    <tr>\n",
       "      <th>3</th>\n",
       "      <td>David</td>\n",
       "      <td>40</td>\n",
       "      <td>Houston</td>\n",
       "    </tr>\n",
       "  </tbody>\n",
       "</table>\n",
       "</div>"
      ],
      "text/plain": [
       "      NAME  AGE         CITY\n",
       "0    Alice   25     New York\n",
       "1      Bob   30  Los Angeles\n",
       "2  Charlie   35      Chicago\n",
       "3    David   40      Houston"
      ]
     },
     "execution_count": 13,
     "metadata": {},
     "output_type": "execute_result"
    }
   ],
   "source": [
    "df"
   ]
  },
  {
   "cell_type": "code",
   "execution_count": 14,
   "id": "6eb680bd",
   "metadata": {},
   "outputs": [
    {
     "name": "stdout",
     "output_type": "stream",
     "text": [
      "      NAME  AGE  GENDER\n",
      "0    Alice   25  Female\n",
      "1      Bob   30    Male\n",
      "2  Charlie   35    Male\n",
      "3    David   40    Male\n"
     ]
    }
   ],
   "source": [
    "data = {'NAME': ['Alice', 'Bob','Charlie', 'David'],\n",
    "        'AGE': [25, 30, 35, 40],\n",
    "        'GENDER': ['Female', 'Male', 'Male', 'Male']}\n",
    "df = pd.DataFrame(data)\n",
    "\n",
    "print(df)"
   ]
  },
  {
   "cell_type": "code",
   "execution_count": 15,
   "id": "f1bd7e69",
   "metadata": {},
   "outputs": [
    {
     "data": {
      "text/html": [
       "<div>\n",
       "<style scoped>\n",
       "    .dataframe tbody tr th:only-of-type {\n",
       "        vertical-align: middle;\n",
       "    }\n",
       "\n",
       "    .dataframe tbody tr th {\n",
       "        vertical-align: top;\n",
       "    }\n",
       "\n",
       "    .dataframe thead th {\n",
       "        text-align: right;\n",
       "    }\n",
       "</style>\n",
       "<table border=\"1\" class=\"dataframe\">\n",
       "  <thead>\n",
       "    <tr style=\"text-align: right;\">\n",
       "      <th></th>\n",
       "      <th>NAME</th>\n",
       "      <th>AGE</th>\n",
       "      <th>GENDER</th>\n",
       "    </tr>\n",
       "  </thead>\n",
       "  <tbody>\n",
       "    <tr>\n",
       "      <th>0</th>\n",
       "      <td>Alice</td>\n",
       "      <td>25</td>\n",
       "      <td>Female</td>\n",
       "    </tr>\n",
       "    <tr>\n",
       "      <th>1</th>\n",
       "      <td>Bob</td>\n",
       "      <td>30</td>\n",
       "      <td>Male</td>\n",
       "    </tr>\n",
       "    <tr>\n",
       "      <th>2</th>\n",
       "      <td>Charlie</td>\n",
       "      <td>35</td>\n",
       "      <td>Male</td>\n",
       "    </tr>\n",
       "    <tr>\n",
       "      <th>3</th>\n",
       "      <td>David</td>\n",
       "      <td>40</td>\n",
       "      <td>Male</td>\n",
       "    </tr>\n",
       "  </tbody>\n",
       "</table>\n",
       "</div>"
      ],
      "text/plain": [
       "      NAME  AGE  GENDER\n",
       "0    Alice   25  Female\n",
       "1      Bob   30    Male\n",
       "2  Charlie   35    Male\n",
       "3    David   40    Male"
      ]
     },
     "execution_count": 15,
     "metadata": {},
     "output_type": "execute_result"
    }
   ],
   "source": [
    "df"
   ]
  },
  {
   "cell_type": "code",
   "execution_count": 24,
   "id": "29d4410d",
   "metadata": {},
   "outputs": [
    {
     "data": {
      "text/html": [
       "<div>\n",
       "<style scoped>\n",
       "    .dataframe tbody tr th:only-of-type {\n",
       "        vertical-align: middle;\n",
       "    }\n",
       "\n",
       "    .dataframe tbody tr th {\n",
       "        vertical-align: top;\n",
       "    }\n",
       "\n",
       "    .dataframe thead th {\n",
       "        text-align: right;\n",
       "    }\n",
       "</style>\n",
       "<table border=\"1\" class=\"dataframe\">\n",
       "  <thead>\n",
       "    <tr style=\"text-align: right;\">\n",
       "      <th></th>\n",
       "      <th>NAME</th>\n",
       "      <th>AGE</th>\n",
       "      <th>GENDER</th>\n",
       "    </tr>\n",
       "  </thead>\n",
       "  <tbody>\n",
       "    <tr>\n",
       "      <th>1</th>\n",
       "      <td>Bob</td>\n",
       "      <td>30</td>\n",
       "      <td>Male</td>\n",
       "    </tr>\n",
       "  </tbody>\n",
       "</table>\n",
       "</div>"
      ],
      "text/plain": [
       "  NAME  AGE GENDER\n",
       "1  Bob   30   Male"
      ]
     },
     "execution_count": 24,
     "metadata": {},
     "output_type": "execute_result"
    }
   ],
   "source": [
    "# Getting the index of the row containing 'Bob'\n",
    "\n",
    "index_to_drop = df[df['NAME'] == 'Bob']\n",
    "index_to_drop\n"
   ]
  },
  {
   "cell_type": "code",
   "execution_count": 29,
   "id": "cb29e03f",
   "metadata": {},
   "outputs": [
    {
     "data": {
      "text/html": [
       "<div>\n",
       "<style scoped>\n",
       "    .dataframe tbody tr th:only-of-type {\n",
       "        vertical-align: middle;\n",
       "    }\n",
       "\n",
       "    .dataframe tbody tr th {\n",
       "        vertical-align: top;\n",
       "    }\n",
       "\n",
       "    .dataframe thead th {\n",
       "        text-align: right;\n",
       "    }\n",
       "</style>\n",
       "<table border=\"1\" class=\"dataframe\">\n",
       "  <thead>\n",
       "    <tr style=\"text-align: right;\">\n",
       "      <th></th>\n",
       "      <th>NAME</th>\n",
       "      <th>AGE</th>\n",
       "      <th>GENDER</th>\n",
       "    </tr>\n",
       "  </thead>\n",
       "  <tbody>\n",
       "    <tr>\n",
       "      <th>0</th>\n",
       "      <td>Alice</td>\n",
       "      <td>25</td>\n",
       "      <td>Female</td>\n",
       "    </tr>\n",
       "    <tr>\n",
       "      <th>2</th>\n",
       "      <td>Charlie</td>\n",
       "      <td>35</td>\n",
       "      <td>Male</td>\n",
       "    </tr>\n",
       "    <tr>\n",
       "      <th>3</th>\n",
       "      <td>David</td>\n",
       "      <td>40</td>\n",
       "      <td>Male</td>\n",
       "    </tr>\n",
       "  </tbody>\n",
       "</table>\n",
       "</div>"
      ],
      "text/plain": [
       "      NAME  AGE  GENDER\n",
       "0    Alice   25  Female\n",
       "2  Charlie   35    Male\n",
       "3    David   40    Male"
      ]
     },
     "execution_count": 29,
     "metadata": {},
     "output_type": "execute_result"
    }
   ],
   "source": [
    "index_to_drop = df[df['NAME'] !='Bob']\n",
    "index_to_drop\n"
   ]
  },
  {
   "cell_type": "code",
   "execution_count": 31,
   "id": "6ca6100b",
   "metadata": {},
   "outputs": [
    {
     "data": {
      "text/html": [
       "<div>\n",
       "<style scoped>\n",
       "    .dataframe tbody tr th:only-of-type {\n",
       "        vertical-align: middle;\n",
       "    }\n",
       "\n",
       "    .dataframe tbody tr th {\n",
       "        vertical-align: top;\n",
       "    }\n",
       "\n",
       "    .dataframe thead th {\n",
       "        text-align: right;\n",
       "    }\n",
       "</style>\n",
       "<table border=\"1\" class=\"dataframe\">\n",
       "  <thead>\n",
       "    <tr style=\"text-align: right;\">\n",
       "      <th></th>\n",
       "      <th>NAME</th>\n",
       "      <th>AGE</th>\n",
       "      <th>GENDER</th>\n",
       "    </tr>\n",
       "  </thead>\n",
       "  <tbody>\n",
       "    <tr>\n",
       "      <th>0</th>\n",
       "      <td>Alice</td>\n",
       "      <td>25</td>\n",
       "      <td>Female</td>\n",
       "    </tr>\n",
       "    <tr>\n",
       "      <th>1</th>\n",
       "      <td>Bob</td>\n",
       "      <td>30</td>\n",
       "      <td>Male</td>\n",
       "    </tr>\n",
       "    <tr>\n",
       "      <th>2</th>\n",
       "      <td>Charlie</td>\n",
       "      <td>35</td>\n",
       "      <td>Male</td>\n",
       "    </tr>\n",
       "    <tr>\n",
       "      <th>3</th>\n",
       "      <td>David</td>\n",
       "      <td>40</td>\n",
       "      <td>Male</td>\n",
       "    </tr>\n",
       "  </tbody>\n",
       "</table>\n",
       "</div>"
      ],
      "text/plain": [
       "      NAME  AGE  GENDER\n",
       "0    Alice   25  Female\n",
       "1      Bob   30    Male\n",
       "2  Charlie   35    Male\n",
       "3    David   40    Male"
      ]
     },
     "execution_count": 31,
     "metadata": {},
     "output_type": "execute_result"
    }
   ],
   "source": [
    "df"
   ]
  },
  {
   "cell_type": "code",
   "execution_count": 33,
   "id": "28e381df",
   "metadata": {},
   "outputs": [
    {
     "name": "stdout",
     "output_type": "stream",
     "text": [
      "      NAME  AGE  GENDER\n",
      "0    Alice   25  Female\n",
      "2  Charlie   35    Male\n",
      "3    David   40    Male\n",
      "4    David   43    Male\n"
     ]
    }
   ],
   "source": [
    "import pandas as pd\n",
    "\n",
    "# Provided data dictionary\n",
    "data = {'NAME': ['Alice', 'Bob','Charlie', 'David', 'David'],\n",
    "        'AGE': [25, 30, 35, 40, 43],\n",
    "        'GENDER': ['Female', 'Male', 'Male', 'Male','Male']}\n",
    "\n",
    "# Creating DataFrame\n",
    "df = pd.DataFrame(data)\n",
    "\n",
    "# Getting the index of the row containing 'Bob'\n",
    "index_to_drop = df[df['NAME'] == 'Bob'].index\n",
    "\n",
    "# Deleting the row containing 'Bob' using the drop() function\n",
    "df.drop(index_to_drop, inplace=True)\n",
    "\n",
    "# Printing the modified DataFrame\n",
    "print(df)\n"
   ]
  },
  {
   "cell_type": "code",
   "execution_count": 37,
   "id": "83ef062f",
   "metadata": {},
   "outputs": [
    {
     "data": {
      "text/html": [
       "<div>\n",
       "<style scoped>\n",
       "    .dataframe tbody tr th:only-of-type {\n",
       "        vertical-align: middle;\n",
       "    }\n",
       "\n",
       "    .dataframe tbody tr th {\n",
       "        vertical-align: top;\n",
       "    }\n",
       "\n",
       "    .dataframe thead th {\n",
       "        text-align: right;\n",
       "    }\n",
       "</style>\n",
       "<table border=\"1\" class=\"dataframe\">\n",
       "  <thead>\n",
       "    <tr style=\"text-align: right;\">\n",
       "      <th></th>\n",
       "      <th>NAME</th>\n",
       "      <th>AGE</th>\n",
       "      <th>GENDER</th>\n",
       "    </tr>\n",
       "  </thead>\n",
       "  <tbody>\n",
       "    <tr>\n",
       "      <th>0</th>\n",
       "      <td>Alice</td>\n",
       "      <td>60</td>\n",
       "      <td>Female</td>\n",
       "    </tr>\n",
       "    <tr>\n",
       "      <th>2</th>\n",
       "      <td>Charlie</td>\n",
       "      <td>35</td>\n",
       "      <td>Male</td>\n",
       "    </tr>\n",
       "    <tr>\n",
       "      <th>3</th>\n",
       "      <td>David</td>\n",
       "      <td>60</td>\n",
       "      <td>Male</td>\n",
       "    </tr>\n",
       "    <tr>\n",
       "      <th>4</th>\n",
       "      <td>David</td>\n",
       "      <td>60</td>\n",
       "      <td>Male</td>\n",
       "    </tr>\n",
       "  </tbody>\n",
       "</table>\n",
       "</div>"
      ],
      "text/plain": [
       "      NAME  AGE  GENDER\n",
       "0    Alice   60  Female\n",
       "2  Charlie   35    Male\n",
       "3    David   60    Male\n",
       "4    David   60    Male"
      ]
     },
     "execution_count": 37,
     "metadata": {},
     "output_type": "execute_result"
    }
   ],
   "source": [
    "# Changing the age of 'Alice' to 60 using boolean indexing\n",
    "df.loc[df['NAME'] == 'David', 'AGE'] = 60\n",
    "\n",
    "df\n"
   ]
  },
  {
   "cell_type": "code",
   "execution_count": 41,
   "id": "bdb728c1",
   "metadata": {},
   "outputs": [
    {
     "data": {
      "text/html": [
       "<div>\n",
       "<style scoped>\n",
       "    .dataframe tbody tr th:only-of-type {\n",
       "        vertical-align: middle;\n",
       "    }\n",
       "\n",
       "    .dataframe tbody tr th {\n",
       "        vertical-align: top;\n",
       "    }\n",
       "\n",
       "    .dataframe thead th {\n",
       "        text-align: right;\n",
       "    }\n",
       "</style>\n",
       "<table border=\"1\" class=\"dataframe\">\n",
       "  <thead>\n",
       "    <tr style=\"text-align: right;\">\n",
       "      <th></th>\n",
       "      <th>NAME</th>\n",
       "      <th>AGE</th>\n",
       "      <th>GENDER</th>\n",
       "    </tr>\n",
       "  </thead>\n",
       "  <tbody>\n",
       "    <tr>\n",
       "      <th>0</th>\n",
       "      <td>Alice</td>\n",
       "      <td>60</td>\n",
       "      <td>Female</td>\n",
       "    </tr>\n",
       "    <tr>\n",
       "      <th>2</th>\n",
       "      <td>Charlie</td>\n",
       "      <td>35</td>\n",
       "      <td>Male</td>\n",
       "    </tr>\n",
       "    <tr>\n",
       "      <th>3</th>\n",
       "      <td>David</td>\n",
       "      <td>60</td>\n",
       "      <td>Female</td>\n",
       "    </tr>\n",
       "    <tr>\n",
       "      <th>4</th>\n",
       "      <td>David</td>\n",
       "      <td>60</td>\n",
       "      <td>Female</td>\n",
       "    </tr>\n",
       "  </tbody>\n",
       "</table>\n",
       "</div>"
      ],
      "text/plain": [
       "      NAME  AGE  GENDER\n",
       "0    Alice   60  Female\n",
       "2  Charlie   35    Male\n",
       "3    David   60  Female\n",
       "4    David   60  Female"
      ]
     },
     "execution_count": 41,
     "metadata": {},
     "output_type": "execute_result"
    }
   ],
   "source": [
    "df.loc[df['NAME'] == 'David', 'GENDER'] ='Female'\n",
    "df\n"
   ]
  },
  {
   "cell_type": "code",
   "execution_count": 44,
   "id": "bf971a63",
   "metadata": {},
   "outputs": [
    {
     "data": {
      "text/html": [
       "<div>\n",
       "<style scoped>\n",
       "    .dataframe tbody tr th:only-of-type {\n",
       "        vertical-align: middle;\n",
       "    }\n",
       "\n",
       "    .dataframe tbody tr th {\n",
       "        vertical-align: top;\n",
       "    }\n",
       "\n",
       "    .dataframe thead th {\n",
       "        text-align: right;\n",
       "    }\n",
       "</style>\n",
       "<table border=\"1\" class=\"dataframe\">\n",
       "  <thead>\n",
       "    <tr style=\"text-align: right;\">\n",
       "      <th></th>\n",
       "      <th>NAME</th>\n",
       "      <th>AGE</th>\n",
       "      <th>GENDER</th>\n",
       "    </tr>\n",
       "  </thead>\n",
       "  <tbody>\n",
       "    <tr>\n",
       "      <th>0</th>\n",
       "      <td>Alice</td>\n",
       "      <td>60</td>\n",
       "      <td>Female</td>\n",
       "    </tr>\n",
       "    <tr>\n",
       "      <th>2</th>\n",
       "      <td>Charlie</td>\n",
       "      <td>35</td>\n",
       "      <td>Male</td>\n",
       "    </tr>\n",
       "    <tr>\n",
       "      <th>3</th>\n",
       "      <td>David</td>\n",
       "      <td>60</td>\n",
       "      <td>Female</td>\n",
       "    </tr>\n",
       "    <tr>\n",
       "      <th>4</th>\n",
       "      <td>David</td>\n",
       "      <td>60</td>\n",
       "      <td>Male</td>\n",
       "    </tr>\n",
       "  </tbody>\n",
       "</table>\n",
       "</div>"
      ],
      "text/plain": [
       "      NAME  AGE  GENDER\n",
       "0    Alice   60  Female\n",
       "2  Charlie   35    Male\n",
       "3    David   60  Female\n",
       "4    David   60    Male"
      ]
     },
     "execution_count": 44,
     "metadata": {},
     "output_type": "execute_result"
    }
   ],
   "source": [
    "index_to_change = df[df['NAME'] == 'David'].index[-1]\n",
    "index_to_change #q\n",
    "df.loc[index_to_change, 'GENDER'] = 'Male'\n",
    "df"
   ]
  },
  {
   "cell_type": "code",
   "execution_count": 62,
   "id": "97389e43",
   "metadata": {},
   "outputs": [
    {
     "name": "stdout",
     "output_type": "stream",
     "text": [
      "      NAME  AGE  GENDER         CITY\n",
      "0    Alice   25  Female       London\n",
      "1      Bob   30    Male  Los angeles\n",
      "2  Charlie   35    Male        Abuja\n",
      "3    David   40    Male      Nairobi\n",
      "4    David   43    Male        Lagos\n",
      "5    Queen   20  Female        Benin\n",
      "6    Sarah   34  Female   Manchester\n",
      "7   Angela   21  Female        Paris\n"
     ]
    }
   ],
   "source": [
    "import pandas as pd\n",
    "\n",
    "# First dataset\n",
    "data1 = {'NAME': ['Alice', 'Bob', 'Charlie', 'David', 'David'],\n",
    "         \n",
    "         'AGE': [25, 30, 35, 40, 43],\n",
    "         'GENDER': ['Female', 'Male', 'Male', 'Male', 'Male'],\n",
    "        'CITY': ['London', 'Los angeles', 'Abuja', 'Nairobi', 'Lagos']}\n",
    "df1 = pd.DataFrame(data1)\n",
    "\n",
    "# Second dataset\n",
    "data2 = {'NAME': ['Queen', 'Sarah', 'Angela'],\n",
    "         'AGE': [20, 34, 21],\n",
    "         'GENDER': ['Female', 'Female','Female'],\n",
    "        'CITY':['Benin','Manchester','Paris']}\n",
    "\n",
    "df2 = pd.DataFrame(data2)\n",
    "\n",
    "# Append rows of df2 to df1\n",
    "merged_df = df1.append(df2, ignore_index=True)\n",
    "\n",
    "# Printing the merged DataFrame\n",
    "print(merged_df)\n"
   ]
  },
  {
   "cell_type": "code",
   "execution_count": 67,
   "id": "2bc93eda",
   "metadata": {},
   "outputs": [
    {
     "data": {
      "text/html": [
       "<div>\n",
       "<style scoped>\n",
       "    .dataframe tbody tr th:only-of-type {\n",
       "        vertical-align: middle;\n",
       "    }\n",
       "\n",
       "    .dataframe tbody tr th {\n",
       "        vertical-align: top;\n",
       "    }\n",
       "\n",
       "    .dataframe thead th {\n",
       "        text-align: right;\n",
       "    }\n",
       "</style>\n",
       "<table border=\"1\" class=\"dataframe\">\n",
       "  <thead>\n",
       "    <tr style=\"text-align: right;\">\n",
       "      <th></th>\n",
       "      <th>NAME</th>\n",
       "      <th>AGE</th>\n",
       "      <th>GENDER</th>\n",
       "      <th>CITY</th>\n",
       "    </tr>\n",
       "  </thead>\n",
       "  <tbody>\n",
       "    <tr>\n",
       "      <th>0</th>\n",
       "      <td>Alice</td>\n",
       "      <td>25</td>\n",
       "      <td>Female</td>\n",
       "      <td>London</td>\n",
       "    </tr>\n",
       "    <tr>\n",
       "      <th>1</th>\n",
       "      <td>Bob</td>\n",
       "      <td>30</td>\n",
       "      <td>Male</td>\n",
       "      <td>Los angeles</td>\n",
       "    </tr>\n",
       "    <tr>\n",
       "      <th>2</th>\n",
       "      <td>Charlie</td>\n",
       "      <td>35</td>\n",
       "      <td>Male</td>\n",
       "      <td>Abuja</td>\n",
       "    </tr>\n",
       "    <tr>\n",
       "      <th>3</th>\n",
       "      <td>David</td>\n",
       "      <td>40</td>\n",
       "      <td>Male</td>\n",
       "      <td>Nairobi</td>\n",
       "    </tr>\n",
       "    <tr>\n",
       "      <th>4</th>\n",
       "      <td>David</td>\n",
       "      <td>43</td>\n",
       "      <td>Male</td>\n",
       "      <td>Lagos</td>\n",
       "    </tr>\n",
       "    <tr>\n",
       "      <th>5</th>\n",
       "      <td>Queen</td>\n",
       "      <td>20</td>\n",
       "      <td>Female</td>\n",
       "      <td>Benin</td>\n",
       "    </tr>\n",
       "    <tr>\n",
       "      <th>6</th>\n",
       "      <td>Sarah</td>\n",
       "      <td>34</td>\n",
       "      <td>Female</td>\n",
       "      <td>Manchester</td>\n",
       "    </tr>\n",
       "    <tr>\n",
       "      <th>7</th>\n",
       "      <td>Angela</td>\n",
       "      <td>21</td>\n",
       "      <td>Female</td>\n",
       "      <td>Paris</td>\n",
       "    </tr>\n",
       "  </tbody>\n",
       "</table>\n",
       "</div>"
      ],
      "text/plain": [
       "      NAME  AGE  GENDER         CITY\n",
       "0    Alice   25  Female       London\n",
       "1      Bob   30    Male  Los angeles\n",
       "2  Charlie   35    Male        Abuja\n",
       "3    David   40    Male      Nairobi\n",
       "4    David   43    Male        Lagos\n",
       "5    Queen   20  Female        Benin\n",
       "6    Sarah   34  Female   Manchester\n",
       "7   Angela   21  Female        Paris"
      ]
     },
     "execution_count": 67,
     "metadata": {},
     "output_type": "execute_result"
    }
   ],
   "source": [
    "merged_df"
   ]
  },
  {
   "cell_type": "code",
   "execution_count": 70,
   "id": "192e07af",
   "metadata": {},
   "outputs": [
    {
     "data": {
      "text/html": [
       "<div>\n",
       "<style scoped>\n",
       "    .dataframe tbody tr th:only-of-type {\n",
       "        vertical-align: middle;\n",
       "    }\n",
       "\n",
       "    .dataframe tbody tr th {\n",
       "        vertical-align: top;\n",
       "    }\n",
       "\n",
       "    .dataframe thead th {\n",
       "        text-align: right;\n",
       "    }\n",
       "</style>\n",
       "<table border=\"1\" class=\"dataframe\">\n",
       "  <thead>\n",
       "    <tr style=\"text-align: right;\">\n",
       "      <th></th>\n",
       "      <th>NAME</th>\n",
       "      <th>AGE</th>\n",
       "      <th>GENDER</th>\n",
       "      <th>CITY</th>\n",
       "    </tr>\n",
       "  </thead>\n",
       "  <tbody>\n",
       "    <tr>\n",
       "      <th>0</th>\n",
       "      <td>Alice</td>\n",
       "      <td>25</td>\n",
       "      <td>Female</td>\n",
       "      <td>London</td>\n",
       "    </tr>\n",
       "    <tr>\n",
       "      <th>7</th>\n",
       "      <td>Angela</td>\n",
       "      <td>21</td>\n",
       "      <td>Female</td>\n",
       "      <td>Paris</td>\n",
       "    </tr>\n",
       "    <tr>\n",
       "      <th>1</th>\n",
       "      <td>Bob</td>\n",
       "      <td>30</td>\n",
       "      <td>Male</td>\n",
       "      <td>Los angeles</td>\n",
       "    </tr>\n",
       "    <tr>\n",
       "      <th>2</th>\n",
       "      <td>Charlie</td>\n",
       "      <td>35</td>\n",
       "      <td>Male</td>\n",
       "      <td>Abuja</td>\n",
       "    </tr>\n",
       "    <tr>\n",
       "      <th>3</th>\n",
       "      <td>David</td>\n",
       "      <td>40</td>\n",
       "      <td>Male</td>\n",
       "      <td>Nairobi</td>\n",
       "    </tr>\n",
       "    <tr>\n",
       "      <th>4</th>\n",
       "      <td>David</td>\n",
       "      <td>43</td>\n",
       "      <td>Male</td>\n",
       "      <td>Lagos</td>\n",
       "    </tr>\n",
       "    <tr>\n",
       "      <th>5</th>\n",
       "      <td>Queen</td>\n",
       "      <td>20</td>\n",
       "      <td>Female</td>\n",
       "      <td>Benin</td>\n",
       "    </tr>\n",
       "    <tr>\n",
       "      <th>6</th>\n",
       "      <td>Sarah</td>\n",
       "      <td>34</td>\n",
       "      <td>Female</td>\n",
       "      <td>Manchester</td>\n",
       "    </tr>\n",
       "  </tbody>\n",
       "</table>\n",
       "</div>"
      ],
      "text/plain": [
       "      NAME  AGE  GENDER         CITY\n",
       "0    Alice   25  Female       London\n",
       "7   Angela   21  Female        Paris\n",
       "1      Bob   30    Male  Los angeles\n",
       "2  Charlie   35    Male        Abuja\n",
       "3    David   40    Male      Nairobi\n",
       "4    David   43    Male        Lagos\n",
       "5    Queen   20  Female        Benin\n",
       "6    Sarah   34  Female   Manchester"
      ]
     },
     "execution_count": 70,
     "metadata": {},
     "output_type": "execute_result"
    }
   ],
   "source": [
    "merged_df_sort = merged_df.sort_values(by='NAME')\n",
    "merged_df_sort"
   ]
  },
  {
   "cell_type": "code",
   "execution_count": 72,
   "id": "d82c6374",
   "metadata": {},
   "outputs": [
    {
     "data": {
      "text/html": [
       "<div>\n",
       "<style scoped>\n",
       "    .dataframe tbody tr th:only-of-type {\n",
       "        vertical-align: middle;\n",
       "    }\n",
       "\n",
       "    .dataframe tbody tr th {\n",
       "        vertical-align: top;\n",
       "    }\n",
       "\n",
       "    .dataframe thead th {\n",
       "        text-align: right;\n",
       "    }\n",
       "</style>\n",
       "<table border=\"1\" class=\"dataframe\">\n",
       "  <thead>\n",
       "    <tr style=\"text-align: right;\">\n",
       "      <th></th>\n",
       "      <th>NAME</th>\n",
       "      <th>AGE</th>\n",
       "      <th>GENDER</th>\n",
       "      <th>CITY</th>\n",
       "    </tr>\n",
       "  </thead>\n",
       "  <tbody>\n",
       "    <tr>\n",
       "      <th>0</th>\n",
       "      <td>Alice</td>\n",
       "      <td>25</td>\n",
       "      <td>Female</td>\n",
       "      <td>London</td>\n",
       "    </tr>\n",
       "    <tr>\n",
       "      <th>1</th>\n",
       "      <td>Bob</td>\n",
       "      <td>30</td>\n",
       "      <td>Male</td>\n",
       "      <td>Los angeles</td>\n",
       "    </tr>\n",
       "    <tr>\n",
       "      <th>2</th>\n",
       "      <td>Charlie</td>\n",
       "      <td>35</td>\n",
       "      <td>Male</td>\n",
       "      <td>Abuja</td>\n",
       "    </tr>\n",
       "    <tr>\n",
       "      <th>3</th>\n",
       "      <td>David</td>\n",
       "      <td>40</td>\n",
       "      <td>Male</td>\n",
       "      <td>Nairobi</td>\n",
       "    </tr>\n",
       "    <tr>\n",
       "      <th>4</th>\n",
       "      <td>David</td>\n",
       "      <td>43</td>\n",
       "      <td>Male</td>\n",
       "      <td>Lagos</td>\n",
       "    </tr>\n",
       "    <tr>\n",
       "      <th>5</th>\n",
       "      <td>Queen</td>\n",
       "      <td>20</td>\n",
       "      <td>Female</td>\n",
       "      <td>Benin</td>\n",
       "    </tr>\n",
       "    <tr>\n",
       "      <th>6</th>\n",
       "      <td>Sarah</td>\n",
       "      <td>34</td>\n",
       "      <td>Female</td>\n",
       "      <td>Manchester</td>\n",
       "    </tr>\n",
       "    <tr>\n",
       "      <th>7</th>\n",
       "      <td>Angela</td>\n",
       "      <td>21</td>\n",
       "      <td>Female</td>\n",
       "      <td>Paris</td>\n",
       "    </tr>\n",
       "    <tr>\n",
       "      <th>8</th>\n",
       "      <td>Noah</td>\n",
       "      <td>28</td>\n",
       "      <td>Male</td>\n",
       "      <td>Munic</td>\n",
       "    </tr>\n",
       "  </tbody>\n",
       "</table>\n",
       "</div>"
      ],
      "text/plain": [
       "      NAME  AGE  GENDER         CITY\n",
       "0    Alice   25  Female       London\n",
       "1      Bob   30    Male  Los angeles\n",
       "2  Charlie   35    Male        Abuja\n",
       "3    David   40    Male      Nairobi\n",
       "4    David   43    Male        Lagos\n",
       "5    Queen   20  Female        Benin\n",
       "6    Sarah   34  Female   Manchester\n",
       "7   Angela   21  Female        Paris\n",
       "8     Noah   28    Male        Munic"
      ]
     },
     "execution_count": 72,
     "metadata": {},
     "output_type": "execute_result"
    }
   ],
   "source": [
    "Add_noah = {'NAME': ['Noah'],\n",
    "             'AGE': [28],\n",
    "             'GENDER': ['Male'],\n",
    "           'CITY':['Munic']} #\n",
    "\n",
    "df_noah = pd.DataFrame(Add_noah)\n",
    "\n",
    "merged_df_sort = merged_df.append(df_noah, ignore_index=True) #\n",
    "\n",
    "merged_df_sort \n",
    "\n"
   ]
  },
  {
   "cell_type": "code",
   "execution_count": 87,
   "id": "423eb608",
   "metadata": {},
   "outputs": [
    {
     "name": "stdout",
     "output_type": "stream",
     "text": [
      "Number of occurrences of 'David': 2\n"
     ]
    }
   ],
   "source": [
    "# Count occurrences of 'David' in the 'NAME' column\n",
    "david_count = merged_df_sort['NAME'].value_counts().get('David')\n",
    "\n",
    "# Print the count\n",
    "print(\"Number of occurrences of 'David':\", david_count)\n"
   ]
  },
  {
   "cell_type": "code",
   "execution_count": 93,
   "id": "f586bffd",
   "metadata": {},
   "outputs": [
    {
     "name": "stdout",
     "output_type": "stream",
     "text": [
      "Number of occurrences of 'David': 2\n"
     ]
    }
   ],
   "source": [
    "# Count occurrences of 'David' using boolean indexing\n",
    "david_count = len(merged_df_sort[merged_df_sort['NAME'] == 'David']) #\n",
    "\n",
    "print(\"Number of occurrences of 'David':\", david_count)\n",
    "\n",
    "\n"
   ]
  },
  {
   "cell_type": "code",
   "execution_count": 108,
   "id": "bd3a7a7e",
   "metadata": {},
   "outputs": [
    {
     "data": {
      "text/plain": [
       "'hungry'"
      ]
     },
     "execution_count": 108,
     "metadata": {},
     "output_type": "execute_result"
    }
   ],
   "source": [
    "A= 'hungry'\n",
    "A\n"
   ]
  },
  {
   "cell_type": "code",
   "execution_count": null,
   "id": "c8f9a920",
   "metadata": {},
   "outputs": [],
   "source": []
  }
 ],
 "metadata": {
  "kernelspec": {
   "display_name": "Python 3 (ipykernel)",
   "language": "python",
   "name": "python3"
  },
  "language_info": {
   "codemirror_mode": {
    "name": "ipython",
    "version": 3
   },
   "file_extension": ".py",
   "mimetype": "text/x-python",
   "name": "python",
   "nbconvert_exporter": "python",
   "pygments_lexer": "ipython3",
   "version": "3.9.7"
  }
 },
 "nbformat": 4,
 "nbformat_minor": 5
}
